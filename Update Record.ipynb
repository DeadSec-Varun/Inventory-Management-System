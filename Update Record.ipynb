{
 "cells": [
  {
   "cell_type": "markdown",
   "id": "5cbfe84d",
   "metadata": {},
   "source": [
    "# Initial Product Record\n",
    "### Do not execute it"
   ]
  },
  {
   "cell_type": "code",
   "execution_count": null,
   "id": "74b82c42",
   "metadata": {},
   "outputs": [],
   "source": [
    "records = {101 :{\"name\" :\"Milk\",\"price\" :25,\"qty\" :50,\"brand\" :\"Amul\",\"MFD\" :\"Aug/21\"} ,102 :{\"name\" :\"Eggs\",\"price\" :30,\"qty\" :200,\"brand\" :\"Fram fresh\",\"MFD\" :\"Aug/21\"},103 :{\"name\" :\"Bread\",\"price\" :15,\"qty\" :40,\"brand\" :\"Harvest\",\"MFD\" :\"Aug/21\"},104 :{\"name\" :\"Chocolate\",\"price\" :10,\"qty\" :50,\"brand\" :\"Amul\",\"MFD\" :\"Mar/21\"},105 :{\"name\" :\"Maggi\",\"price\" :12,\"qty\" :100,\"brand\" :\"Nestle\",\"MFD\" :\"Apr/21\"}\n",
    ",106 :{\"name\" :\"Butter\",\"price\" :35,\"qty\" :45,\"brand\" :\"Amul\",\"MFD\" :\"Aug/21\"},107 :{\"name\" :\"Ice-Cream\",\"price\" :20,\"qty\" :100,\"brand\" :\"Motherdairy\",\"MFD\" :\"July/21\"},108 :{\"name\" :\"Oil\",\"price\" :70,\"qty\" :60,\"brand\" :\"Safola\",\"MFD\" :\"June/21\"},109 :{\"name\" :\"Pen\",\"price\" :15,\"qty\" :100,\"brand\" :\"Parker\",\"MFD\" :\"Apr/21\"},110 :{\"name\" :\"Pencil\",\"price\" :5,\"qty\" :100,\"brand\" :\"Doms\",\"MFD\" :\"Feb/20\"}\n",
    ",111 :{\"name\" :\"Bag\",\"price\" :300,\"qty\" :30,\"brand\" :\"Skybags\",\"MFD\" :\"Jan/21\"},112 :{\"name\" :\"Shoes\",\"price\" :500,\"qty\" :44,\"brand\" :\"Nike\",\"MFD\" :\"Sep/19\"},113 :{\"name\" :\"perfume\",\"price\" :100,\"qty\" :46,\"brand\" :\"Spark\",\"MFD\" :\"Jan/21\"},114 :{\"name\" :\"Shirt\",\"price\" :200,\"qty\" :60,\"brand\" :\"PeterEngland\",\"MFD\" :\"Jan/21\"},115 :{\"name\" :\"Jeans\",\"price\" :600,\"qty\" :65,\"brand\" :\"Pepe Jeans\",\"MFD\" :\"Apr/21\"}\n",
    ",116 :{\"name\" :\"Mobile\",\"price\" :12000,\"qty\" :62,\"brand\" :\"Apple\",\"MFD\" :\"Oct/20\"},117 :{\"name\" :\"Ear-Phone\",\"price\" :800,\"qty\" :63,\"brand\" :\"realme\",\"MFD\" :\"June/20\"},118 :{\"name\" :\"Keyboard\",\"price\" :1000,\"qty\" :38,\"brand\" :\"Logitech\",\"MFD\" :\"Apr/21\"},119 :{\"name\" :\"Mouse\",\"price\" :600,\"qty\" :29,\"brand\" :\"Razer\",\"MFD\" :\"July/21\"},120 :{\"name\" :\"Speaker\",\"price\" :3000,\"qty\" :43,\"brand\" :\"Sony\",\"MFD\" :\"Mar/21\"}\n",
    ",121 :{\"name\" :\"Laptop\",\"price\" :60000,\"qty\" :31,\"brand\" :\"HP\",\"MFD\" :\"Feb/20\"},122 :{\"name\" :\"Ear-Pods\",\"price\" :15000,\"qty\" :10,\"brand\" :\"Apple\",\"MFD\" :\"Mar/21\"},123 :{\"name\" :\"Router\",\"price\" :1500,\"qty\" :72,\"brand\" :\"D-link\",\"MFD\" :\"Apr/21\"},124 :{\"name\" :\"TV\",\"price\" :25000,\"qty\" :8,\"brand\" :\"Samsung\",\"MFD\" :\"Feb/20\"},125 :{\"name\" :\"Watch\",\"price\" :5500,\"qty\" :40,\"brand\" :\"Titan\",\"MFD\" :\"July/21\"}\n",
    ",126 :{\"name\" :\"I-Pad\",\"price\" :40000,\"qty\" :15,\"brand\" :\"Apple\",\"MFD\" :\"Feb/21\"},127 :{\"name\" :\"Drink\",\"price\" :35,\"qty\" :20,\"brand\" :\"Moster\",\"MFD\" :\"June/21\"},128 :{\"name\" :\"Cake\",\"price\" :500,\"qty\" :5,\"brand\" :\"Britannia\",\"MFD\" :\"Aug/21\"},129 :{\"name\" :\"Biscuit\",\"price\" :10,\"qty\" :100,\"brand\" :\"Parle\",\"MFD\" :\"Mar/21\"},130 :{\"name\" :\"Coffee\",\"price\" :80,\"qty\" :60,\"brand\" :\"Nescafe\",\"MFD\" :\"Aug/21\"}}"
   ]
  },
  {
   "cell_type": "code",
   "execution_count": null,
   "id": "a50705ba",
   "metadata": {},
   "outputs": [],
   "source": [
    "import json\n",
    "js=json.dumps(records)\n",
    "fd=open(\"record.json\",'w')\n",
    "fd.write(js)\n",
    "fd.close()"
   ]
  },
  {
   "cell_type": "markdown",
   "id": "46b5443c",
   "metadata": {},
   "source": [
    "# Initial Sales Record\n",
    "### Do not execute it"
   ]
  },
  {
   "cell_type": "code",
   "execution_count": null,
   "id": "3e9ff1c2",
   "metadata": {},
   "outputs": [],
   "source": [
    "sal=open(\"sales.json\",'w')\n",
    "sale={}\n",
    "vs=json.dumps(sale)\n",
    "sal.write(vs)\n",
    "sal.close()"
   ]
  },
  {
   "cell_type": "markdown",
   "id": "06ea676c",
   "metadata": {},
   "source": [
    "# Updatde Quantity"
   ]
  },
  {
   "cell_type": "code",
   "execution_count": 4,
   "id": "aa849794",
   "metadata": {},
   "outputs": [
    {
     "name": "stdout",
     "output_type": "stream",
     "text": [
      "Enter id of product whose quantity needed to be updated101\n",
      "Enter quantity to increase4\n"
     ]
    }
   ],
   "source": [
    "import json\n",
    "fd=open(\"record.json\",'r+')\n",
    "txt=fd.read()\n",
    "\n",
    "record=json.loads(txt)\n",
    "\n",
    "fd.seek(0)\n",
    "#fd=open(\"record.json\",'w')\n",
    "\n",
    "#fd.close()\n",
    "\n",
    "id=(input(\"Enter id of product whose quantity needed to be updated\"))\n",
    "updt_qty=int(input(\"Enter quantity to increase \"))\n",
    "record[id][\"qty\"]+=updt_qty\n",
    "print(\"**  **/nQuantity updated\")\n",
    "js=json.dumps(record)\n",
    "fd.write(js)\n",
    "fd.close()"
   ]
  },
  {
   "cell_type": "markdown",
   "id": "617ca265",
   "metadata": {},
   "source": [
    "# Add New Product"
   ]
  },
  {
   "cell_type": "code",
   "execution_count": 13,
   "id": "ef8166aa",
   "metadata": {},
   "outputs": [
    {
     "name": "stdout",
     "output_type": "stream",
     "text": [
      "Enter name of New Product: Color\n",
      "Enter price for New Product: 20\n",
      "Enter quantity of New Product: 30\n",
      "Enter brand of New Product: Nataj\n",
      "Enter manufacturing date of New Product(eg-Month/Date): Oct/12\n"
     ]
    }
   ],
   "source": [
    "import json\n",
    "fd=open(\"record.json\",'r+')\n",
    "txt=fd.read()\n",
    "\n",
    "record=json.loads(txt)\n",
    "\n",
    "lst=list(record)\n",
    "k=lst[-1]\n",
    "k=int(k)\n",
    "name=input(\"Enter name of New Product: \")\n",
    "price=int(input(\"Enter price for New Product: \"))\n",
    "qty=int(input(\"Enter quantity of New Product: \"))\n",
    "brand=input(\"Enter brand of New Product: \")\n",
    "mfd=input(\"Enter manufacturing date of New Product(eg-Month/Date): \")\n",
    "\n",
    "record[k+1]={\"name\":name,\"price\":price,\"qty\":qty,\"brand\":brand,\"MFD\":mfd}\n",
    "\n",
    "js=json.dumps(record)\n",
    "fd.seek(0)\n",
    "fd.write(js)\n",
    "fd.close()"
   ]
  },
  {
   "cell_type": "code",
   "execution_count": null,
   "id": "6a639f77",
   "metadata": {},
   "outputs": [],
   "source": []
  }
 ],
 "metadata": {
  "kernelspec": {
   "display_name": "Python 3",
   "language": "python",
   "name": "python3"
  },
  "language_info": {
   "codemirror_mode": {
    "name": "ipython",
    "version": 3
   },
   "file_extension": ".py",
   "mimetype": "text/x-python",
   "name": "python",
   "nbconvert_exporter": "python",
   "pygments_lexer": "ipython3",
   "version": "3.8.8"
  }
 },
 "nbformat": 4,
 "nbformat_minor": 5
}
